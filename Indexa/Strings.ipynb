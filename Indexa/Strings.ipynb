{
 "cells": [
  {
   "cell_type": "code",
   "execution_count": 11,
   "metadata": {},
   "outputs": [
    {
     "name": "stdout",
     "output_type": "stream",
     "text": [
      "dlrow , olleH\n",
      "['dlrow', ',', 'olleH']\n",
      "dlrow,olleH\n",
      "dlrowolleH\n"
     ]
    }
   ],
   "source": [
    "word = \"Hello , world\"\n",
    "reverse = ''\n",
    "\n",
    "for i in word:\n",
    "    reverse = i+reverse\n",
    "print(reverse)\n",
    "\n",
    "k = reverse.split()\n",
    "print(k)\n",
    "\n",
    "\n",
    "j = \"\"\n",
    "for i in k:\n",
    "    j+=i\n",
    "print(\"\".join(j))\n",
    "\n",
    "\n",
    "str = \"\"\n",
    "for i in j:\n",
    "    if i!=\",\":\n",
    "        str+=i \n",
    "print(str)\n",
    "        \n"
   ]
  },
  {
   "cell_type": "code",
   "execution_count": 22,
   "metadata": {},
   "outputs": [
    {
     "name": "stdout",
     "output_type": "stream",
     "text": [
      "tiurf a si  elppA\n",
      "tiurf a si  elppAtiurfasielppA\n"
     ]
    }
   ],
   "source": [
    "word =\"Apple , is a fruit\"\n",
    "\n",
    "for i in word:\n",
    "    letter = word.replace(\",\",\"\")\n",
    "l = \"\"\n",
    "for i in letter:\n",
    "    l = i + l \n",
    "print(l)\n",
    "\n",
    "for i in l:\n",
    "    if i!=' ' and i!=\"  \":\n",
    "        l+=i\n",
    "print(l)\n",
    "\n"
   ]
  },
  {
   "cell_type": "code",
   "execution_count": 23,
   "metadata": {},
   "outputs": [
    {
     "name": "stdout",
     "output_type": "stream",
     "text": [
      "Appleisagreatfruitissosweet\n"
     ]
    }
   ],
   "source": [
    "string = \"Apple is a great fruit, is so sweet\"\n",
    "char_rm = [' ',',']\n",
    "for i in char_rm:\n",
    "    string = string.replace(i,'')\n",
    "print(string)"
   ]
  },
  {
   "cell_type": "code",
   "execution_count": 42,
   "metadata": {},
   "outputs": [
    {
     "name": "stdout",
     "output_type": "stream",
     "text": [
      "dict_values([2, 4, 1, 1])\n",
      "4\n"
     ]
    }
   ],
   "source": [
    "word = 'aapppple'\n",
    "\n",
    "char = {}\n",
    "for i in word:\n",
    "    if i in char:\n",
    "        char[i] += 1\n",
    "    else:\n",
    "        char[i] = 1\n",
    "\n",
    "print(char.values())\n",
    "\n",
    "maxi = -1\n",
    "for i in char.values():\n",
    "    if i>maxi:\n",
    "        maxi = i \n",
    "print(maxi)\n",
    "\n",
    "for c in char.items():\n",
    "    if char.keys() ==maxi:\n",
    "        print(char.values())\n",
    "\n"
   ]
  },
  {
   "cell_type": "code",
   "execution_count": 49,
   "metadata": {},
   "outputs": [
    {
     "name": "stdout",
     "output_type": "stream",
     "text": [
      "-1\n"
     ]
    }
   ],
   "source": [
    "'binary search'\n",
    "\n",
    "def bs(arr, target):\n",
    "\n",
    "    start = 0\n",
    "    end = len(arr)-1\n",
    "\n",
    "    while(start<=end):\n",
    "\n",
    "        mid = (start+end)//2\n",
    "\n",
    "        if arr[mid]<target:\n",
    "            start = mid+1\n",
    "        elif arr[mid]>target:\n",
    "            end = mid-1\n",
    "        else:\n",
    "            return mid\n",
    "    return -1 \n",
    "\n",
    "arr = [1,2,3,4,5,6]\n",
    "target = 12\n",
    "print(bs(arr,target))\n",
    "\n",
    "\n"
   ]
  },
  {
   "cell_type": "code",
   "execution_count": 51,
   "metadata": {},
   "outputs": [
    {
     "name": "stdout",
     "output_type": "stream",
     "text": [
      "[1, 1, 2, 3, 3, 4, 4, 4, 5, 12, 23, 43]\n"
     ]
    }
   ],
   "source": [
    "'bubble sort'\n",
    "\n",
    "arr = [3,4,1,1,4,5,2,12,23,4,43,3]\n",
    "\n",
    "for i in range(len(arr)):\n",
    "    for j in range(len(arr)-i-1):\n",
    "        if arr[j]>arr[j+1]:\n",
    "            arr[j], arr[j+1] = arr[j+1], arr[j]\n",
    "print(arr)"
   ]
  },
  {
   "cell_type": "code",
   "execution_count": 58,
   "metadata": {},
   "outputs": [
    {
     "name": "stdout",
     "output_type": "stream",
     "text": [
      "[4, 5, 2, 23, 33, 2343, 432, 2]\n"
     ]
    }
   ],
   "source": [
    "arr = [4, 5, 2, 23, 33, 2343, 432, 2]\n",
    "\n",
    "for i in range(len(arr)):\n",
    "    startIndex = arr[i] - 1\n",
    "    if(startIndex>len(arr)):\n",
    "        arr[startIndex], arr[i] = arr[i], arr[startIndex]\n",
    "    else:\n",
    "        break\n",
    "\n",
    "print(arr)\n"
   ]
  },
  {
   "cell_type": "code",
   "execution_count": 61,
   "metadata": {},
   "outputs": [
    {
     "name": "stdout",
     "output_type": "stream",
     "text": [
      "2\n"
     ]
    }
   ],
   "source": [
    "arr = [1,2,4,5,6]\n",
    "target = 3\n",
    "\n",
    "start = 0\n",
    "end = len(arr)-1\n",
    "\n",
    "while(start<end):\n",
    "    mid = (start+end)//2\n",
    "\n",
    "    if(arr[mid]== target):\n",
    "        print(mid)\n",
    "    elif arr[mid]<target:\n",
    "        start = mid+1\n",
    "    else:\n",
    "        end = mid-1\n",
    "print(end+1)"
   ]
  },
  {
   "cell_type": "code",
   "execution_count": 95,
   "metadata": {},
   "outputs": [
    {
     "name": "stdout",
     "output_type": "stream",
     "text": [
      "(2, 3)\n"
     ]
    }
   ],
   "source": [
    "def maxOccurance(nums):\n",
    "    char = {}\n",
    "    for i in nums:\n",
    "        if i in char:\n",
    "            char[i]+=1\n",
    "        else:\n",
    "            char[i]=1\n",
    "    max = -1\n",
    "    max_val = None\n",
    "\n",
    "\n",
    "    for key,values in char.items():\n",
    "        if values>max:\n",
    "            max = char[key]\n",
    "            max_val = key\n",
    "    return max_val,max\n",
    "\n",
    "\n",
    "nums = [1,2,2,2,3,4,5,5,5,6,7,8,8]\n",
    "print(maxOccurance(nums))\n"
   ]
  },
  {
   "cell_type": "code",
   "execution_count": null,
   "metadata": {},
   "outputs": [],
   "source": []
  }
 ],
 "metadata": {
  "kernelspec": {
   "display_name": "Python 3",
   "language": "python",
   "name": "python3"
  },
  "language_info": {
   "codemirror_mode": {
    "name": "ipython",
    "version": 3
   },
   "file_extension": ".py",
   "mimetype": "text/x-python",
   "name": "python",
   "nbconvert_exporter": "python",
   "pygments_lexer": "ipython3",
   "version": "3.10.11"
  },
  "orig_nbformat": 4
 },
 "nbformat": 4,
 "nbformat_minor": 2
}
