{
 "cells": [
  {
   "cell_type": "code",
   "execution_count": 11,
   "metadata": {},
   "outputs": [
    {
     "name": "stdout",
     "output_type": "stream",
     "text": [
      "dlrow , olleH\n",
      "['dlrow', ',', 'olleH']\n",
      "dlrow,olleH\n",
      "dlrowolleH\n"
     ]
    }
   ],
   "source": [
    "word = \"Hello , world\"\n",
    "reverse = ''\n",
    "\n",
    "for i in word:\n",
    "    reverse = i+reverse\n",
    "print(reverse)\n",
    "\n",
    "k = reverse.split()\n",
    "print(k)\n",
    "\n",
    "\n",
    "j = \"\"\n",
    "for i in k:\n",
    "    j+=i\n",
    "print(\"\".join(j))\n",
    "\n",
    "\n",
    "str = \"\"\n",
    "for i in j:\n",
    "    if i!=\",\":\n",
    "        str+=i \n",
    "print(str)\n",
    "        \n"
   ]
  },
  {
   "cell_type": "code",
   "execution_count": 22,
   "metadata": {},
   "outputs": [
    {
     "name": "stdout",
     "output_type": "stream",
     "text": [
      "tiurf a si  elppA\n",
      "tiurf a si  elppAtiurfasielppA\n"
     ]
    }
   ],
   "source": [
    "word =\"Apple , is a fruit\"\n",
    "\n",
    "for i in word:\n",
    "    letter = word.replace(\",\",\"\")\n",
    "l = \"\"\n",
    "for i in letter:\n",
    "    l = i + l \n",
    "print(l)\n",
    "\n",
    "for i in l:\n",
    "    if i!=' ' and i!=\"  \":\n",
    "        l+=i\n",
    "print(l)\n",
    "\n"
   ]
  },
  {
   "cell_type": "code",
   "execution_count": 23,
   "metadata": {},
   "outputs": [
    {
     "name": "stdout",
     "output_type": "stream",
     "text": [
      "Appleisagreatfruitissosweet\n"
     ]
    }
   ],
   "source": [
    "string = \"Apple is a great fruit, is so sweet\"\n",
    "char_rm = [' ',',']\n",
    "for i in char_rm:\n",
    "    string = string.replace(i,'')\n",
    "print(string)"
   ]
  },
  {
   "cell_type": "code",
   "execution_count": 42,
   "metadata": {},
   "outputs": [
    {
     "name": "stdout",
     "output_type": "stream",
     "text": [
      "dict_values([2, 4, 1, 1])\n",
      "4\n"
     ]
    }
   ],
   "source": [
    "word = 'aapppple'\n",
    "\n",
    "char = {}\n",
    "for i in word:\n",
    "    if i in char:\n",
    "        char[i] += 1\n",
    "    else:\n",
    "        char[i] = 1\n",
    "\n",
    "print(char.values())\n",
    "\n",
    "maxi = -1\n",
    "for i in char.values():\n",
    "    if i>maxi:\n",
    "        maxi = i \n",
    "print(maxi)\n",
    "\n",
    "for c in char.items():\n",
    "    if char.keys() ==maxi:\n",
    "        print(char.values())\n",
    "\n"
   ]
  },
  {
   "cell_type": "code",
   "execution_count": 49,
   "metadata": {},
   "outputs": [
    {
     "name": "stdout",
     "output_type": "stream",
     "text": [
      "-1\n"
     ]
    }
   ],
   "source": [
    "'binary search'\n",
    "\n",
    "def bs(arr, target):\n",
    "\n",
    "    start = 0\n",
    "    end = len(arr)-1\n",
    "\n",
    "    while(start<=end):\n",
    "\n",
    "        mid = (start+end)//2\n",
    "\n",
    "        if arr[mid]<target:\n",
    "            start = mid+1\n",
    "        elif arr[mid]>target:\n",
    "            end = mid-1\n",
    "        else:\n",
    "            return mid\n",
    "    return -1 \n",
    "\n",
    "arr = [1,2,3,4,5,6]\n",
    "target = 12\n",
    "print(bs(arr,target))\n",
    "\n",
    "\n"
   ]
  },
  {
   "cell_type": "code",
   "execution_count": 51,
   "metadata": {},
   "outputs": [
    {
     "name": "stdout",
     "output_type": "stream",
     "text": [
      "[1, 1, 2, 3, 3, 4, 4, 4, 5, 12, 23, 43]\n"
     ]
    }
   ],
   "source": [
    "'bubble sort'\n",
    "\n",
    "arr = [3,4,1,1,4,5,2,12,23,4,43,3]\n",
    "\n",
    "for i in range(len(arr)):\n",
    "    for j in range(len(arr)-i-1):\n",
    "        if arr[j]>arr[j+1]:\n",
    "            arr[j], arr[j+1] = arr[j+1], arr[j]\n",
    "print(arr)"
   ]
  },
  {
   "cell_type": "code",
   "execution_count": 58,
   "metadata": {},
   "outputs": [
    {
     "name": "stdout",
     "output_type": "stream",
     "text": [
      "[4, 5, 2, 23, 33, 2343, 432, 2]\n"
     ]
    }
   ],
   "source": [
    "arr = [4, 5, 2, 23, 33, 2343, 432, 2]\n",
    "\n",
    "for i in range(len(arr)):\n",
    "    startIndex = arr[i] - 1\n",
    "    if(startIndex>len(arr)):\n",
    "        arr[startIndex], arr[i] = arr[i], arr[startIndex]\n",
    "    else:\n",
    "        break\n",
    "\n",
    "print(arr)\n"
   ]
  },
  {
   "cell_type": "code",
   "execution_count": 61,
   "metadata": {},
   "outputs": [
    {
     "name": "stdout",
     "output_type": "stream",
     "text": [
      "2\n"
     ]
    }
   ],
   "source": [
    "arr = [1,2,4,5,6]\n",
    "target = 3\n",
    "\n",
    "start = 0\n",
    "end = len(arr)-1\n",
    "\n",
    "while(start<end):\n",
    "    mid = (start+end)//2\n",
    "\n",
    "    if(arr[mid]== target):\n",
    "        print(mid)\n",
    "    elif arr[mid]<target:\n",
    "        start = mid+1\n",
    "    else:\n",
    "        end = mid-1\n",
    "print(end+1)"
   ]
  },
  {
   "cell_type": "code",
   "execution_count": 118,
   "metadata": {},
   "outputs": [
    {
     "name": "stdout",
     "output_type": "stream",
     "text": [
      "6\n"
     ]
    }
   ],
   "source": [
    "def maxOccurance(nums):\n",
    "    char = {}\n",
    "    for i in nums:\n",
    "        if i in char:\n",
    "            char[i]+=1\n",
    "        else:\n",
    "            char[i]=1\n",
    "    max = -1\n",
    "    max_val = None\n",
    "\n",
    "\n",
    "    for key,values in char.items():\n",
    "        if values>max and key%2==0:\n",
    "            max = char[key]\n",
    "            max_val = key\n",
    "    print(min)\n",
    "\n",
    "    min_val = -1\n",
    "    for key,values in char.items():\n",
    "        if key>min_val and key%2==0 and key!=max_val:\n",
    "            min_val = char[key]\n",
    "            min_val = key\n",
    "    return min_val\n",
    "\n",
    "\n",
    "\n",
    "\n",
    "nums = [0,1,2,2,4,4,1,4,6,6,6,4]\n",
    "print(maxOccurance(nums))\n"
   ]
  },
  {
   "cell_type": "code",
   "execution_count": 122,
   "metadata": {},
   "outputs": [
    {
     "name": "stdout",
     "output_type": "stream",
     "text": [
      "{1: 1, 2: 2, 3: 1, 4: 2, 5: 1}\n",
      "None\n"
     ]
    }
   ],
   "source": [
    "def maxOccurance(nums):\n",
    "    char = {}\n",
    "    for i in nums:\n",
    "        if i in char:\n",
    "            char[i]+=1\n",
    "        else:\n",
    "            char[i]=1\n",
    "    max = -1\n",
    "    max_val = None\n",
    "    print(char)\n",
    "\n",
    "\n",
    "nums = [1,2,2,3,4,4,5]\n",
    "print(maxOccurance(nums))"
   ]
  },
  {
   "cell_type": "code",
   "execution_count": 5,
   "metadata": {},
   "outputs": [
    {
     "name": "stdout",
     "output_type": "stream",
     "text": [
      "1\n"
     ]
    }
   ],
   "source": [
    "k = int(input())\n",
    "ar = list(map(int,input().split()))\n",
    "for i in ar:\n",
    "    count = ar.count(i)\n",
    "print(count)"
   ]
  },
  {
   "cell_type": "code",
   "execution_count": 7,
   "metadata": {},
   "outputs": [
    {
     "name": "stdout",
     "output_type": "stream",
     "text": [
      "9\n",
      "18\n",
      "27\n",
      "36\n",
      "45\n",
      "54\n",
      "63\n",
      "72\n",
      "81\n",
      "90\n"
     ]
    }
   ],
   "source": [
    "n = 9\n",
    "for i in range(1,n+2):\n",
    "    print(n*i)"
   ]
  },
  {
   "cell_type": "code",
   "execution_count": 16,
   "metadata": {},
   "outputs": [
    {
     "name": "stdout",
     "output_type": "stream",
     "text": [
      "120\n"
     ]
    }
   ],
   "source": [
    "arr = [1,2,3,4,5]\n",
    "ans = arr[0]\n",
    "for i in range(1,len(arr)):\n",
    "    ans = ans*arr[i]\n",
    "print(ans)\n"
   ]
  },
  {
   "cell_type": "code",
   "execution_count": 24,
   "metadata": {},
   "outputs": [
    {
     "name": "stdout",
     "output_type": "stream",
     "text": [
      "1\n",
      "2\n",
      "3\n",
      "6\n"
     ]
    }
   ],
   "source": [
    "'perfert number'\n",
    "\n",
    "n = 6\n",
    "ans = 0\n",
    "for i in range(1,n-1):\n",
    "    if(n%i==0):\n",
    "        ans+=i\n",
    "        print(i)\n",
    "print(ans)\n",
    "        "
   ]
  },
  {
   "cell_type": "code",
   "execution_count": 41,
   "metadata": {},
   "outputs": [
    {
     "name": "stdout",
     "output_type": "stream",
     "text": [
      "1\n"
     ]
    }
   ],
   "source": [
    "def isDigitSumPalindrome(N):\n",
    "    if N < 0:\n",
    "        return False\n",
    "    else:\n",
    "        temp = N\n",
    "        digits = 0\n",
    "        reverse = 0\n",
    "        while temp != 0:\n",
    "            digit = temp % 10\n",
    "            digits += digit\n",
    "            temp //= 10\n",
    "\n",
    "        if isPalindrome(digits):\n",
    "            return 1\n",
    "        else:\n",
    "            return 0\n",
    "\n",
    "\n",
    "def isPalindrome(n):\n",
    "    return str(n) == str(n)[::-1]\n",
    "\n",
    "N = 56\n",
    "print(isDigitSumPalindrome(N))\n"
   ]
  },
  {
   "cell_type": "code",
   "execution_count": 43,
   "metadata": {},
   "outputs": [
    {
     "name": "stdout",
     "output_type": "stream",
     "text": [
      "2\n"
     ]
    }
   ],
   "source": [
    "n = 200\n",
    "num = str(n)\n",
    "reverse = \"\"\n",
    "for i in num:\n",
    "\treverse = i+reverse\n",
    "print(int(reverse))"
   ]
  },
  {
   "cell_type": "code",
   "execution_count": null,
   "metadata": {},
   "outputs": [],
   "source": [
    "\"Input:\n",
    "A = 3\n",
    "B = 3\n",
    "K = 1\n",
    "Output:\n",
    "7\n",
    "Explanation:\n",
    "33 = 27 and 1st\n",
    "digit from\""
   ]
  },
  {
   "cell_type": "code",
   "execution_count": 46,
   "metadata": {},
   "outputs": [
    {
     "name": "stdout",
     "output_type": "stream",
     "text": [
      "2\n"
     ]
    }
   ],
   "source": [
    "A = 5\n",
    "B = 2\n",
    "K = 2\n",
    "\n",
    "a = A**B\n",
    "print(str(a)[-K])"
   ]
  },
  {
   "cell_type": "code",
   "execution_count": 52,
   "metadata": {},
   "outputs": [
    {
     "name": "stdout",
     "output_type": "stream",
     "text": [
      "Prime\n"
     ]
    }
   ],
   "source": [
    "a = 5\n",
    "for i in range(2,a):\n",
    "    if a%i==0:\n",
    "        print(\"Not prime\")\n",
    "        break\n",
    "else:\n",
    "    print(\"Prime\")"
   ]
  },
  {
   "cell_type": "code",
   "execution_count": 53,
   "metadata": {},
   "outputs": [
    {
     "name": "stdout",
     "output_type": "stream",
     "text": [
      "120\n"
     ]
    }
   ],
   "source": [
    "n = 5\n",
    "ans = 1\n",
    "for i in range(1,n+1):\n",
    "    ans*=i\n",
    "print(ans)"
   ]
  },
  {
   "cell_type": "code",
   "execution_count": 55,
   "metadata": {},
   "outputs": [
    {
     "name": "stdout",
     "output_type": "stream",
     "text": [
      "588\n"
     ]
    }
   ],
   "source": [
    "def lcm(num1,num2):\n",
    "    if(num1>num2):\n",
    "        higher = num1\n",
    "    else:\n",
    "        higher = num2\n",
    "    val = higher\n",
    "\n",
    "    while True:\n",
    "        if higher%num1==0 and higher%num2==0:\n",
    "            return higher\n",
    "        else:\n",
    "            higher+=val\n",
    "num1 = 98\n",
    "num2 = 12\n",
    "print(lcm(num1,num2))"
   ]
  }
 ],
 "metadata": {
  "kernelspec": {
   "display_name": "Python 3",
   "language": "python",
   "name": "python3"
  },
  "language_info": {
   "codemirror_mode": {
    "name": "ipython",
    "version": 3
   },
   "file_extension": ".py",
   "mimetype": "text/x-python",
   "name": "python",
   "nbconvert_exporter": "python",
   "pygments_lexer": "ipython3",
   "version": "3.10.11"
  },
  "orig_nbformat": 4
 },
 "nbformat": 4,
 "nbformat_minor": 2
}
