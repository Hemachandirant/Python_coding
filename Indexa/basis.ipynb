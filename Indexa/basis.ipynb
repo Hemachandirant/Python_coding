{
 "cells": [
  {
   "cell_type": "code",
   "execution_count": 2,
   "metadata": {},
   "outputs": [
    {
     "name": "stdout",
     "output_type": "stream",
     "text": [
      "10.0\n"
     ]
    }
   ],
   "source": [
    "num = int(10)\n",
    "num1 = float(num)\n",
    "print(num1)"
   ]
  },
  {
   "cell_type": "code",
   "execution_count": 7,
   "metadata": {},
   "outputs": [
    {
     "name": "stdout",
     "output_type": "stream",
     "text": [
      "10.0\n",
      "10.0\n"
     ]
    }
   ],
   "source": [
    "\"find sqrt\"\n",
    "import math\n",
    "num = 100\n",
    "print(num**0.5)\n",
    "print(math.sqrt(num))"
   ]
  },
  {
   "cell_type": "code",
   "execution_count": 8,
   "metadata": {},
   "outputs": [
    {
     "name": "stdout",
     "output_type": "stream",
     "text": [
      "10 12\n"
     ]
    }
   ],
   "source": [
    "\"Swapping\"\n",
    "\n",
    "a = 12\n",
    "b = 10\n",
    "a,b = b,a\n",
    "print(a,b)\n"
   ]
  },
  {
   "cell_type": "code",
   "execution_count": 9,
   "metadata": {},
   "outputs": [
    {
     "name": "stdout",
     "output_type": "stream",
     "text": [
      "20 10\n"
     ]
    }
   ],
   "source": [
    "\"Swaping without thrid varibale\"\n",
    "\n",
    "a = 10\n",
    "b = 20\n",
    "a = a+b\n",
    "b = a-b\n",
    "a = a-b\n",
    "print(a,b)"
   ]
  },
  {
   "cell_type": "code",
   "execution_count": 32,
   "metadata": {},
   "outputs": [
    {
     "name": "stdout",
     "output_type": "stream",
     "text": [
      "6\n",
      "2\n"
     ]
    }
   ],
   "source": [
    "\"Print random numbers\"\n",
    "\n",
    "import random\n",
    "arr = [1,2,3,4,5]\n",
    "print(random.randint(0,10))\n",
    "random.shuffle(arr)\n",
    "print(arr[0])"
   ]
  },
  {
   "cell_type": "code",
   "execution_count": 35,
   "metadata": {},
   "outputs": [
    {
     "name": "stdout",
     "output_type": "stream",
     "text": [
      "[1, 2, 3]\n"
     ]
    }
   ],
   "source": [
    "list = [1,2,3,4]\n",
    "removed = list.pop()\n",
    "list.append(removed)\n",
    "list.remove(4)\n",
    "list.con\n",
    "print(list)"
   ]
  },
  {
   "cell_type": "code",
   "execution_count": 43,
   "metadata": {},
   "outputs": [
    {
     "name": "stdout",
     "output_type": "stream",
     "text": [
      "1\n",
      "2\n",
      "1\n",
      "True\n"
     ]
    }
   ],
   "source": [
    "num = 121\n",
    "if num<0:\n",
    "    print(False)\n",
    "reversed_num = 0\n",
    "temp = num\n",
    "while(temp!=0):\n",
    "    digit = temp%10\n",
    "    print(digit)\n",
    "    reversed_num = reversed_num*10+digit\n",
    "    temp//=10\n",
    "if( reversed_num == num):\n",
    "    print(True)\n",
    "else:\n",
    "    print(False)"
   ]
  },
  {
   "cell_type": "code",
   "execution_count": 3,
   "metadata": {},
   "outputs": [
    {
     "name": "stdout",
     "output_type": "stream",
     "text": [
      "3\n",
      "2\n",
      "1\n",
      "321\n"
     ]
    }
   ],
   "source": [
    "def isPanagram(num):\n",
    "    if(num<0):\n",
    "        return False\n",
    "    else:\n",
    "        temp = num\n",
    "        reversed_num = 0\n",
    "        while(temp!=0):\n",
    "            digit = temp%10\n",
    "            reversed_num = reversed_num*10+digit\n",
    "            print(digit)\n",
    "            temp//=10\n",
    "    return reversed_num\n",
    "            \n",
    "\n",
    "print(isPanagram(123))"
   ]
  },
  {
   "cell_type": "code",
   "execution_count": 6,
   "metadata": {},
   "outputs": [
    {
     "name": "stdout",
     "output_type": "stream",
     "text": [
      "[0, 1, 2, 3, 4]\n",
      "5\n"
     ]
    }
   ],
   "source": [
    "arr = [0,0,1,1,1,2,2,3,3,4]\n",
    "\n",
    "new = []\n",
    "for i in arr:\n",
    "    if i not in new:\n",
    "        new.append(i)\n",
    "print(new)\n",
    "print(len(new))"
   ]
  },
  {
   "cell_type": "code",
   "execution_count": 22,
   "metadata": {},
   "outputs": [
    {
     "name": "stdout",
     "output_type": "stream",
     "text": [
      "2\n",
      "3\n",
      "5\n",
      "7\n"
     ]
    }
   ],
   "source": [
    "def isprime(num):\n",
    "    if num < 2:\n",
    "        return False\n",
    "    else:\n",
    "        for i in range(2, num):\n",
    "            if num % i == 0:\n",
    "                return False\n",
    "        return True\n",
    "\n",
    "for i in range(1, 10 + 1):\n",
    "    if isprime(i):\n",
    "        print(i)\n"
   ]
  },
  {
   "cell_type": "code",
   "execution_count": 30,
   "metadata": {},
   "outputs": [
    {
     "name": "stdout",
     "output_type": "stream",
     "text": [
      "362880\n"
     ]
    }
   ],
   "source": [
    "\"Factorial\"\n",
    "\n",
    "n = 9\n",
    "if(n==0):\n",
    "    print(0)\n",
    "else:\n",
    "    factorial = 1\n",
    "    for i in range(1,n+1):\n",
    "        factorial = factorial*i\n",
    "    print(factorial)"
   ]
  },
  {
   "cell_type": "code",
   "execution_count": 36,
   "metadata": {},
   "outputs": [
    {
     "name": "stdout",
     "output_type": "stream",
     "text": [
      "153\n"
     ]
    }
   ],
   "source": [
    "\"Armstrong number\"\n",
    "\n",
    "n  = 153\n",
    "\n",
    "if(n<0):\n",
    "    print(\"Not armstrong\")\n",
    "else:\n",
    "    temp = n\n",
    "    digit = 0\n",
    "    while(temp>0):\n",
    "        last_digit = temp%10\n",
    "        digit += last_digit**3\n",
    "        temp//=10\n",
    "print(digit)"
   ]
  },
  {
   "cell_type": "code",
   "execution_count": 3,
   "metadata": {},
   "outputs": [
    {
     "name": "stdout",
     "output_type": "stream",
     "text": [
      "[2, 3, 5, 7, 11, 13, 17, 19, 23, 29, 31, 37, 41, 43, 47, 53, 59, 61, 67, 71, 73, 79, 83, 89, 97]\n"
     ]
    }
   ],
   "source": [
    "Start = int(input(\"Enter the first number: \"))\n",
    "End = int(input(\"Enter the last number : \"))\n",
    "primenum = []\n",
    "for i in range(Start,End+1):\n",
    "    if(i>1):\n",
    "        for j in range(2,i):\n",
    "            if(i%j==0):\n",
    "                break\n",
    "        else:\n",
    "            primenum.append(i)\n",
    "print(primenum)"
   ]
  },
  {
   "cell_type": "code",
   "execution_count": 8,
   "metadata": {},
   "outputs": [
    {
     "name": "stdout",
     "output_type": "stream",
     "text": [
      "10\n"
     ]
    }
   ],
   "source": [
    "\n",
    "def method():\n",
    "    global num\n",
    "    num = 10\n",
    "def method1():    \n",
    "    print(num)\n",
    "\n",
    "method()\n",
    "method1()\n"
   ]
  },
  {
   "cell_type": "code",
   "execution_count": 8,
   "metadata": {},
   "outputs": [
    {
     "name": "stdout",
     "output_type": "stream",
     "text": [
      "55\n"
     ]
    }
   ],
   "source": [
    "num = int(input())\n",
    "a = 0\n",
    "b = 1\n",
    "if num ==0:\n",
    "    print(0)\n",
    "if num == 1 :\n",
    "    print(1)\n",
    "else:\n",
    "    for i in range(2,num+1):\n",
    "        c = a+b\n",
    "        a = b\n",
    "        b = c\n",
    "    print(b)\n"
   ]
  },
  {
   "cell_type": "code",
   "execution_count": 11,
   "metadata": {},
   "outputs": [
    {
     "data": {
      "text/plain": [
       "55"
      ]
     },
     "execution_count": 11,
     "metadata": {},
     "output_type": "execute_result"
    }
   ],
   "source": [
    "def fib(num):\n",
    "    if num == 0: return 0\n",
    "    if num ==1 or num ==2 : return 1\n",
    "    else:\n",
    "        return fib(num-1) + fib(num-2)\n",
    "    \n",
    "fib(10)\n"
   ]
  }
 ],
 "metadata": {
  "kernelspec": {
   "display_name": "Python 3",
   "language": "python",
   "name": "python3"
  },
  "language_info": {
   "codemirror_mode": {
    "name": "ipython",
    "version": 3
   },
   "file_extension": ".py",
   "mimetype": "text/x-python",
   "name": "python",
   "nbconvert_exporter": "python",
   "pygments_lexer": "ipython3",
   "version": "3.10.11"
  },
  "orig_nbformat": 4
 },
 "nbformat": 4,
 "nbformat_minor": 2
}
