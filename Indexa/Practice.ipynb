{
 "cells": [
  {
   "cell_type": "code",
   "execution_count": 6,
   "metadata": {},
   "outputs": [
    {
     "name": "stdout",
     "output_type": "stream",
     "text": [
      "mam\n",
      "Palindrome\n"
     ]
    }
   ],
   "source": [
    "\"reverse a string\"\n",
    "\n",
    "word = 'mam'\n",
    "reverse = \"\"\n",
    "for i in range(len(word)):\n",
    "    reverse= word[i]+reverse\n",
    "print(reverse)\n",
    "\n",
    "if word.__eq__(reverse):\n",
    "    print(\"Palindrome\")\n",
    "else:\n",
    "    print(\"Not palindrome\")\n"
   ]
  },
  {
   "cell_type": "code",
   "execution_count": 9,
   "metadata": {},
   "outputs": [
    {
     "name": "stdout",
     "output_type": "stream",
     "text": [
      "0\n"
     ]
    }
   ],
   "source": [
    "\"count occurances of a string\"\n",
    "\n",
    "char = 'z'\n",
    "word = \"Malayalam\"\n",
    "count = 0\n",
    "for i in word:\n",
    "    if i==char:\n",
    "        count+=1\n",
    "print(count)"
   ]
  },
  {
   "cell_type": "code",
   "execution_count": 18,
   "metadata": {},
   "outputs": [
    {
     "name": "stdout",
     "output_type": "stream",
     "text": [
      "['a', 'e', 'l', 'p', 'p', 's']\n",
      "['a', 'e', 'l', 'p', 'p', 's']\n",
      "anagram\n"
     ]
    }
   ],
   "source": [
    "\"Find anagram\"\n",
    "\n",
    "word1 = \"Apples\"\n",
    "word2 = \"selppa\"\n",
    "\n",
    "arr1 = []\n",
    "arr2 = []\n",
    "\n",
    "for i in word1.lower():\n",
    "    arr1.append(i)\n",
    "a = sorted(arr1)\n",
    "for j in word2.lower():\n",
    "    arr2.append(j)\n",
    "b = sorted(arr2)\n",
    "\n",
    "c = \"\"\n",
    "d = \"\"\n",
    "\n",
    "for i in str(a):\n",
    "    c+=i\n",
    "for j in str(b):\n",
    "    d+=j\n",
    "print(c)\n",
    "print(d)\n",
    "\n",
    "if(c==d):\n",
    "    print('anagram')\n",
    "else:\n",
    "    print(\"Not anagram\")\n",
    "\n",
    "\n",
    "\n"
   ]
  },
  {
   "cell_type": "code",
   "execution_count": 23,
   "metadata": {},
   "outputs": [
    {
     "name": "stdout",
     "output_type": "stream",
     "text": [
      "a\n",
      "e\n"
     ]
    }
   ],
   "source": [
    "a = 'apple'\n",
    "vowels =[\"A\",'E','I','O','U','a','e','i','o','u']\n",
    "for i in a:\n",
    "    if i in vowels:\n",
    "        print(i)"
   ]
  },
  {
   "cell_type": "code",
   "execution_count": 26,
   "metadata": {},
   "outputs": [
    {
     "name": "stdout",
     "output_type": "stream",
     "text": [
      "1\n",
      "2\n",
      "3\n",
      "8\n"
     ]
    }
   ],
   "source": [
    "\"Print matching elements in a array\"\n",
    "\n",
    "arr = [1,2,3,4,1,2,3,6,7,8,8]\n",
    "for i in range(len(arr)-1):\n",
    "    for j in range(i+1,len(arr)):\n",
    "        if(arr[i]==arr[j]):\n",
    "            print(arr[i])"
   ]
  },
  {
   "cell_type": "code",
   "execution_count": 32,
   "metadata": {},
   "outputs": [
    {
     "name": "stdout",
     "output_type": "stream",
     "text": [
      "34534\n",
      "34344\n"
     ]
    }
   ],
   "source": [
    "arr = [1,2,3,4,5,6,23,234,234,34534,54,35,45,4,5,34,34344]\n",
    "\n",
    "firstLargest = -1\n",
    "secondLargest = -1\n",
    "\n",
    "for i in arr:\n",
    "    if i>firstLargest:\n",
    "        firstLargest = i \n",
    "print(firstLargest)\n",
    "for j in arr:\n",
    "    if j<firstLargest and j!=firstLargest:\n",
    "        secondLargest = j\n",
    "print(secondLargest)"
   ]
  },
  {
   "cell_type": "code",
   "execution_count": 33,
   "metadata": {},
   "outputs": [
    {
     "name": "stdout",
     "output_type": "stream",
     "text": [
      "[6, 5, 4, 3, 2, 1]\n"
     ]
    }
   ],
   "source": [
    "\"reversing a array using two pointers\"\n",
    "\n",
    "arr = [1,2,3,4,5,6]\n",
    "start = 0\n",
    "end = len(arr) - 1\n",
    "while(start<end):\n",
    "    arr[start], arr[end] =  arr[end], arr[start]\n",
    "    start+=1\n",
    "    end-=1\n",
    "print(arr)"
   ]
  },
  {
   "cell_type": "code",
   "execution_count": 24,
   "metadata": {},
   "outputs": [
    {
     "name": "stdout",
     "output_type": "stream",
     "text": [
      "True\n",
      "232\n"
     ]
    }
   ],
   "source": [
    "def palindrome(num):\n",
    "    if num<0:\n",
    "        return False\n",
    "    else:\n",
    "        temp = num\n",
    "        reverse_num = 0\n",
    "        while(temp!=0):\n",
    "            digit = temp%10\n",
    "            reverse_num = reverse_num*10+digit\n",
    "            temp//=10\n",
    "        return reverse_num==num\n",
    "\n",
    "print(palindrome(121))\n",
    "arr = [1,23,232,2345,54321]\n",
    "currentMax = -1\n",
    "for i in arr:\n",
    "\n",
    "    if(palindrome(i) and i>currentMax ):\n",
    "        currentMax = i\n",
    "print(currentMax)"
   ]
  },
  {
   "cell_type": "code",
   "execution_count": 34,
   "metadata": {},
   "outputs": [
    {
     "name": "stdout",
     "output_type": "stream",
     "text": [
      "0\n",
      "1\n",
      "153\n",
      "370\n",
      "371\n",
      "407\n"
     ]
    }
   ],
   "source": [
    "\"armstrong number\"\n",
    "\n",
    "def isArmstrong(num):\n",
    "    if(num<0):\n",
    "        return False\n",
    "    else:\n",
    "        temp = num\n",
    "        digits = 0\n",
    "        while(temp!=0):\n",
    "            digit = temp%10\n",
    "            digits+=digit**3\n",
    "            temp//=10\n",
    "        return digits == num\n",
    "\n",
    "\n",
    "for i in range(0,1000):\n",
    "    if(isArmstrong(i)):\n",
    "        print(i)\n"
   ]
  },
  {
   "cell_type": "code",
   "execution_count": 3,
   "metadata": {},
   "outputs": [
    {
     "name": "stdout",
     "output_type": "stream",
     "text": [
      "['a', 'b', 'c', 'd', 'e']\n",
      "['b', 'c', 'd', 'e', 'e']\n",
      "False\n"
     ]
    }
   ],
   "source": [
    "String1 = \"abcde\"\n",
    "String2 = \"edcbe\"\n",
    "\n",
    "arr1 = []\n",
    "arr2 = []\n",
    "for i in String1:\n",
    "    arr1.append(i)\n",
    "for j in String2:\n",
    "    arr2.append(j)\n",
    "\n",
    "k = sorted(arr1)\n",
    "print(k)\n",
    "m = sorted(arr2)\n",
    "print(m)\n",
    "\n",
    "if(k==m):\n",
    "    print(True)\n",
    "else:\n",
    "    print(False)"
   ]
  },
  {
   "cell_type": "code",
   "execution_count": 4,
   "metadata": {},
   "outputs": [
    {
     "name": "stdout",
     "output_type": "stream",
     "text": [
      "aaadss\n"
     ]
    }
   ],
   "source": [
    "a = \"aasdsa\"\n",
    "ans = ''.join(sorted(a))\n",
    "print(ans)"
   ]
  },
  {
   "cell_type": "code",
   "execution_count": 7,
   "metadata": {},
   "outputs": [
    {
     "name": "stdout",
     "output_type": "stream",
     "text": [
      "2\n"
     ]
    }
   ],
   "source": [
    "num = 2\n",
    "a = 0\n",
    "b = 1\n",
    "for i in range(0,num+1):\n",
    "    c = a+b\n",
    "    a = b\n",
    "    b = c\n",
    "print(a)\n"
   ]
  },
  {
   "cell_type": "code",
   "execution_count": 14,
   "metadata": {},
   "outputs": [
    {
     "name": "stdout",
     "output_type": "stream",
     "text": [
      "[1, 2, 2, 3, 5, 6]\n"
     ]
    }
   ],
   "source": [
    "a = [1,2,3,0,0,0]\n",
    "b = [2,5,6]\n",
    "\n",
    "i = 0\n",
    "while i<len(a):\n",
    "    if a[i]==0:\n",
    "        a.pop(i)\n",
    "    else:\n",
    "        i+=1\n",
    "print(sorted(a+b))\n",
    "for i in b:\n",
    "    a.append(i)"
   ]
  },
  {
   "cell_type": "code",
   "execution_count": 18,
   "metadata": {},
   "outputs": [
    {
     "name": "stdout",
     "output_type": "stream",
     "text": [
      "{}()[]\n"
     ]
    }
   ],
   "source": [
    "a = \"{}()[]\"\n",
    "def isValid(a):\n",
    "    stack = []\n",
    "    FirstToOpen ={\"}\":\"{\", \")\":\"(\", \"]\":\"[\"}\n",
    "\n",
    "    for i in a:\n",
    "        if i in FirstToOpen:\n",
    "            if stack and stack[-1]==FirstToOpen[i]:\n",
    "                stack.pop()\n",
    "            else:\n",
    "                return False\n",
    "        else:\n",
    "            stack.append(i)\n",
    "    return True if not stack else  False"
   ]
  },
  {
   "cell_type": "code",
   "execution_count": 19,
   "metadata": {},
   "outputs": [
    {
     "name": "stdout",
     "output_type": "stream",
     "text": [
      "[2, 4, 4, 6, 6]\n"
     ]
    }
   ],
   "source": [
    "def isOddplusOne(arr):\n",
    "    for i in range(len(arr)):\n",
    "        if isOdd(arr[i]):\n",
    "            arr[i]+=1\n",
    "    return arr \n",
    "\n",
    "def isOdd(num):\n",
    "    if (num%2!=0):\n",
    "        return True\n",
    "    else:\n",
    "        return False\n",
    "    \n",
    "arr  = [2,3,4,5,6]\n",
    "print(isOddplusOne(arr))"
   ]
  }
 ],
 "metadata": {
  "kernelspec": {
   "display_name": "Python 3",
   "language": "python",
   "name": "python3"
  },
  "language_info": {
   "codemirror_mode": {
    "name": "ipython",
    "version": 3
   },
   "file_extension": ".py",
   "mimetype": "text/x-python",
   "name": "python",
   "nbconvert_exporter": "python",
   "pygments_lexer": "ipython3",
   "version": "3.10.11"
  },
  "orig_nbformat": 4
 },
 "nbformat": 4,
 "nbformat_minor": 2
}
